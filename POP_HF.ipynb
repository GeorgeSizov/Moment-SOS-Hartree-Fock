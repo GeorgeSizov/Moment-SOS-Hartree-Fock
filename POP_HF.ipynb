{
 "cells": [
  {
   "cell_type": "code",
   "execution_count": 2,
   "id": "cccc43d4-cb7b-42a8-8ca5-0c797ae601ed",
   "metadata": {},
   "outputs": [],
   "source": [
    "using TSSOS\n",
    "using LinearAlgebra\n",
    "using QuantumOptics\n",
    "using DynamicPolynomials\n",
    "using QuadGK\n",
    "using JuMP\n",
    "using Random\n",
    "using NLopt\n",
    "using HDF5"
   ]
  },
  {
   "cell_type": "markdown",
   "id": "b1c9ac71-a5f3-471f-8711-fef84f5aaede",
   "metadata": {},
   "source": [
    "## Read data from integral solver"
   ]
  },
  {
   "cell_type": "code",
   "execution_count": 4,
   "id": "6e52a967-9dda-42c7-922c-6af5a7487588",
   "metadata": {},
   "outputs": [],
   "source": [
    "N, K, Geom, Gen, Exp, S, Kin, Vext, Hcore, Ten, Enucl = h5open(\"results_Be.hdf5\", \"r\") do file\n",
    "    N = read(file[\"N\"]);\n",
    "    K = read(file[\"K\"]);\n",
    "    Geom = read(file[\"Geom\"]);\n",
    "    Gen = read(file[\"Gen\"]);\n",
    "    \n",
    "    exp_group = file[\"Exp\"];\n",
    "    Exp = transpose([read(exp_group[string(i)]) for i in 0:(length(keys(exp_group))-1)]);\n",
    "    \n",
    "    S = read(file[\"S\"]);\n",
    "    Kin = read(file[\"Kin\"]);\n",
    "    Vext = read(file[\"Vext\"]);\n",
    "    Hcore = read(file[\"Hcore\"]);\n",
    "    Ten = read(file[\"Ten\"]);\n",
    "    Enucl = read(file[\"Enucl\"]);\n",
    "    \n",
    "    return N, K, Geom, Gen, Exp, S, Kin, Vext, Hcore, Ten, Enucl;\n",
    "\n",
    "end;"
   ]
  },
  {
   "cell_type": "code",
   "execution_count": 5,
   "id": "b7ec857d-50df-4cd0-b2b2-4de33fcdb834",
   "metadata": {},
   "outputs": [
    {
     "data": {
      "text/plain": [
       "3-element Vector{Float64}:\n",
       " 0.10410026042398934\n",
       " 0.497328057900321\n",
       " 0.3696606574812221"
      ]
     },
     "execution_count": 5,
     "metadata": {},
     "output_type": "execute_result"
    }
   ],
   "source": [
    "Ten[2,2,2,:]"
   ]
  },
  {
   "cell_type": "code",
   "execution_count": 6,
   "id": "a38188d2-9f7e-4015-b154-cb295d38d6fe",
   "metadata": {},
   "outputs": [
    {
     "data": {
      "text/plain": [
       "3×3 Matrix{Float64}:\n",
       " -7.94674  -1.23532  -1.46014\n",
       " -1.23532  -1.93572  -1.6356\n",
       " -1.46014  -1.6356   -1.65923"
      ]
     },
     "execution_count": 6,
     "metadata": {},
     "output_type": "execute_result"
    }
   ],
   "source": [
    "Hcore"
   ]
  },
  {
   "cell_type": "markdown",
   "id": "11ae4973-27f8-4bc5-a83b-ec190594b65e",
   "metadata": {},
   "source": [
    "## Build Polynomial"
   ]
  },
  {
   "cell_type": "code",
   "execution_count": 8,
   "id": "9d6067b0-7c32-4f9f-8502-0776dd3b849d",
   "metadata": {},
   "outputs": [],
   "source": [
    "Nvars = K*Int(N/2)\n",
    "\n",
    "@polyvar x[1:Nvars]\n",
    "\n",
    "X = reshape(x, K, Int(N/2))\n",
    "\n",
    "poly = Enucl\n",
    "\n",
    "# One-electron part\n",
    "for a in 1:(Int(N/2))\n",
    "    for i in 1:K\n",
    "        for j in 1:K\n",
    "            poly += 2 * Hcore[i, j] * X[i, a] * X[j, a]\n",
    "        end\n",
    "    end\n",
    "end\n",
    "\n",
    "# Two-electron part\n",
    "for a in 1:(Int(N/2))\n",
    "    for b in 1:(Int(N/2))\n",
    "        for i in 1:K\n",
    "            for j in 1:K\n",
    "                for k in 1:K\n",
    "                    for l in 1:K\n",
    "                        term = (2*Ten[i,j,k,l] - Ten[i,l,k,j]) * X[i,a] * X[j,a] * X[k,b] * X[l,b]\n",
    "                        poly += term\n",
    "                    end\n",
    "                end\n",
    "            end\n",
    "        end\n",
    "    end\n",
    "end"
   ]
  },
  {
   "cell_type": "code",
   "execution_count": 9,
   "id": "3bf34a0f-0de1-444d-b58f-6b435d98c8e2",
   "metadata": {},
   "outputs": [
    {
     "data": {
      "text/latex": [
       "$$ 2.284812265809389x_{1}^{4} + 0.7234327064233126x_{1}^{3}x_{2} + 1.2155305509638104x_{1}^{3}x_{3} + 1.3233174570704105x_{1}^{2}x_{2}^{2} + 2.0383417952058673x_{1}^{2}x_{2}x_{3} + 1.0658543010735315x_{1}^{2}x_{3}^{2} + 4.569624531618778x_{1}^{2}x_{4}^{2} + 0.7234327064233126x_{1}^{2}x_{4}x_{5} + 1.2155305509638104x_{1}^{2}x_{4}x_{6} + 2.3743512927608545x_{1}^{2}x_{5}^{2} + 3.4126149739846685x_{1}^{2}x_{5}x_{6} + 1.660735584359744x_{1}^{2}x_{6}^{2} + 0.4164010416959575x_{1}x_{2}^{3} + 1.079926849974829x_{1}x_{2}^{2}x_{3} + 0.9871035344755422x_{1}x_{2}x_{3}^{2} + 0.7234327064233125x_{1}x_{2}x_{4}^{2} - 2.102067671380888x_{1}x_{2}x_{4}x_{5} - 1.3742731787788012x_{1}x_{2}x_{4}x_{6} + 0.4164010416959575x_{1}x_{2}x_{5}^{2} + 0.43642143978940795x_{1}x_{2}x_{5}x_{6} + 0.24831454158942928x_{1}x_{2}x_{6}^{2} + 0.3393655559487937x_{1}x_{3}^{3} + 1.2155305509638101x_{1}x_{3}x_{4}^{2} - 1.3742731787788012x_{1}x_{3}x_{4}x_{5} - 1.189762566572425x_{1}x_{3}x_{4}x_{6} + 0.6435054101854211x_{1}x_{3}x_{5}^{2} + 0.738788992886113x_{1}x_{3}x_{5}x_{6} + 0.3393655559487937x_{1}x_{3}x_{6}^{2} + 0.497328057900321x_{2}^{4} + 1.4786426299248885x_{2}^{3}x_{3} + 1.8620118446928904x_{2}^{2}x_{3}^{2} + 2.3743512927608545x_{2}^{2}x_{4}^{2} + 0.4164010416959575x_{2}^{2}x_{4}x_{5} + 0.643505410185421x_{2}^{2}x_{4}x_{6} + 0.994656115800642x_{2}^{2}x_{5}^{2} + 1.4786426299248885x_{2}^{2}x_{5}x_{6} + 0.9510187910169509x_{2}^{2}x_{6}^{2} + 1.1517110368418075x_{2}x_{3}^{3} + 3.4126149739846685x_{2}x_{3}x_{4}^{2} + 0.43642143978940806x_{2}x_{3}x_{4}x_{5} + 0.738788992886113x_{2}x_{3}x_{4}x_{6} + 1.4786426299248885x_{2}x_{3}x_{5}^{2} + 1.8219861073518788x_{2}x_{3}x_{5}x_{6} + 1.1517110368418075x_{2}x_{3}x_{6}^{2} + 0.3138235270167286x_{3}^{4} + 1.660735584359744x_{3}^{2}x_{4}^{2} + 0.24831454158942928x_{3}^{2}x_{4}x_{5} + 0.3393655559487937x_{3}^{2}x_{4}x_{6} + 0.9510187910169509x_{3}^{2}x_{5}^{2} + 1.1517110368418075x_{3}^{2}x_{5}x_{6} + 0.6276470540334572x_{3}^{2}x_{6}^{2} + 2.284812265809389x_{4}^{4} + 0.7234327064233126x_{4}^{3}x_{5} + 1.2155305509638104x_{4}^{3}x_{6} + 1.3233174570704105x_{4}^{2}x_{5}^{2} + 2.0383417952058673x_{4}^{2}x_{5}x_{6} + 1.0658543010735315x_{4}^{2}x_{6}^{2} + 0.4164010416959575x_{4}x_{5}^{3} + 1.079926849974829x_{4}x_{5}^{2}x_{6} + 0.9871035344755422x_{4}x_{5}x_{6}^{2} + 0.3393655559487937x_{4}x_{6}^{3} + 0.497328057900321x_{5}^{4} + 1.4786426299248885x_{5}^{3}x_{6} + 1.8620118446928904x_{5}^{2}x_{6}^{2} + 1.1517110368418075x_{5}x_{6}^{3} + 0.3138235270167286x_{6}^{4} - 15.893476549799562x_{1}^{2} - 4.9412783637416595x_{1}x_{2} - 5.840560411641873x_{1}x_{3} - 3.8714345431653676x_{2}^{2} - 6.542410340520332x_{2}x_{3} - 3.3184576047905354x_{3}^{2} - 15.893476549799562x_{4}^{2} - 4.9412783637416595x_{4}x_{5} - 5.840560411641873x_{4}x_{6} - 3.8714345431653676x_{5}^{2} - 6.542410340520332x_{5}x_{6} - 3.3184576047905354x_{6}^{2} $$"
      ],
      "text/plain": [
       "2.284812265809389x₁⁴ + 0.7234327064233126x₁³x₂ + 1.2155305509638104x₁³x₃ + 1.3233174570704105x₁²x₂² + 2.0383417952058673x₁²x₂x₃ + 1.0658543010735315x₁²x₃² + 4.569624531618778x₁²x₄² + 0.7234327064233126x₁²x₄x₅ + 1.2155305509638104x₁²x₄x₆ + 2.3743512927608545x₁²x₅² + 3.4126149739846685x₁²x₅x₆ + 1.660735584359744x₁²x₆² + 0.4164010416959575x₁x₂³ + 1.079926849974829x₁x₂²x₃ + 0.9871035344755422x₁x₂x₃² + 0.7234327064233125x₁x₂x₄² - 2.102067671380888x₁x₂x₄x₅ - 1.3742731787788012x₁x₂x₄x₆ + 0.4164010416959575x₁x₂x₅² + 0.43642143978940795x₁x₂x₅x₆ + 0.24831454158942928x₁x₂x₆² + 0.3393655559487937x₁x₃³ + 1.2155305509638101x₁x₃x₄² - 1.3742731787788012x₁x₃x₄x₅ - 1.189762566572425x₁x₃x₄x₆ + 0.6435054101854211x₁x₃x₅² + 0.738788992886113x₁x₃x₅x₆ + 0.3393655559487937x₁x₃x₆² + 0.497328057900321x₂⁴ + 1.4786426299248885x₂³x₃ + 1.8620118446928904x₂²x₃² + 2.3743512927608545x₂²x₄² + 0.4164010416959575x₂²x₄x₅ + 0.643505410185421x₂²x₄x₆ + 0.994656115800642x₂²x₅² + 1.4786426299248885x₂²x₅x₆ + 0.9510187910169509x₂²x₆² + 1.1517110368418075x₂x₃³ + 3.4126149739846685x₂x₃x₄² + 0.43642143978940806x₂x₃x₄x₅ + 0.738788992886113x₂x₃x₄x₆ + 1.4786426299248885x₂x₃x₅² + 1.8219861073518788x₂x₃x₅x₆ + 1.1517110368418075x₂x₃x₆² + 0.3138235270167286x₃⁴ + 1.660735584359744x₃²x₄² + 0.24831454158942928x₃²x₄x₅ + 0.3393655559487937x₃²x₄x₆ + 0.9510187910169509x₃²x₅² + 1.1517110368418075x₃²x₅x₆ + 0.6276470540334572x₃²x₆² + 2.284812265809389x₄⁴ + 0.7234327064233126x₄³x₅ + 1.2155305509638104x₄³x₆ + 1.3233174570704105x₄²x₅² + 2.0383417952058673x₄²x₅x₆ + 1.0658543010735315x₄²x₆² + 0.4164010416959575x₄x₅³ + 1.079926849974829x₄x₅²x₆ + 0.9871035344755422x₄x₅x₆² + 0.3393655559487937x₄x₆³ + 0.497328057900321x₅⁴ + 1.4786426299248885x₅³x₆ + 1.8620118446928904x₅²x₆² + 1.1517110368418075x₅x₆³ + 0.3138235270167286x₆⁴ - 15.893476549799562x₁² - 4.9412783637416595x₁x₂ - 5.840560411641873x₁x₃ - 3.8714345431653676x₂² - 6.542410340520332x₂x₃ - 3.3184576047905354x₃² - 15.893476549799562x₄² - 4.9412783637416595x₄x₅ - 5.840560411641873x₄x₆ - 3.8714345431653676x₅² - 6.542410340520332x₅x₆ - 3.3184576047905354x₆²"
      ]
     },
     "execution_count": 9,
     "metadata": {},
     "output_type": "execute_result"
    }
   ],
   "source": [
    "poly"
   ]
  },
  {
   "cell_type": "code",
   "execution_count": 10,
   "id": "ff98b9e0-0515-4632-9802-f6afe3e08698",
   "metadata": {},
   "outputs": [],
   "source": [
    "pop = [poly];\n",
    "for a in 1:Int(N/2)\n",
    "    for b in a:Int(N/2)\n",
    "        S_val = 0\n",
    "        for i in 1:K\n",
    "            for j in 1:K\n",
    "\n",
    "                S_val = S_val + S[i,j]*X[i,a]*X[j,b]\n",
    "    \n",
    "            end\n",
    "        end\n",
    "        if a==b\n",
    "            S_val += -1\n",
    "        end\n",
    "        push!(pop,S_val)\n",
    "    end\n",
    "end"
   ]
  },
  {
   "cell_type": "markdown",
   "id": "dba79b73-4616-4925-a1f5-b75cc12da7de",
   "metadata": {},
   "source": [
    "## Minimize the polynomial"
   ]
  },
  {
   "cell_type": "code",
   "execution_count": 31,
   "id": "9a83d08d-fccf-4dec-ae74-161ec44ab522",
   "metadata": {},
   "outputs": [
    {
     "name": "stdout",
     "output_type": "stream",
     "text": [
      "*********************************** TSSOS ***********************************\n",
      "TSSOS is launching...\n",
      "optimum = -14.569303987661165\n",
      "Global optimality certified with relative optimality gap 0.000000%!\n",
      "No higher TS step of the TSSOS hierarchy!\n"
     ]
    }
   ],
   "source": [
    "opt,sol,data = tssos_first(pop, variables(pop), 2; numeq=3, QUIET = true, solution = true)\n",
    "    \n",
    "previous_sol = sol\n",
    "previous_opt = opt\n",
    "    \n",
    "while ~isnothing(sol)\n",
    "    previous_sol = sol\n",
    "    previous_opt = opt\n",
    "            \n",
    "    opt,sol,data = tssos_higher!(data; QUIET = true, solution = true)\n",
    "end"
   ]
  },
  {
   "cell_type": "code",
   "execution_count": 33,
   "id": "8fbc96e0-c00d-4416-9bbe-b9966514b0e2",
   "metadata": {},
   "outputs": [
    {
     "data": {
      "text/plain": [
       "6-element Vector{Float64}:\n",
       "  0.9760010488420826\n",
       " -0.10862306355915559\n",
       " -0.397996861284255\n",
       " -0.29903089789110815\n",
       " -0.22581991885581248\n",
       " -0.7052827462678364"
      ]
     },
     "execution_count": 33,
     "metadata": {},
     "output_type": "execute_result"
    }
   ],
   "source": [
    "previous_sol"
   ]
  },
  {
   "cell_type": "code",
   "execution_count": 14,
   "id": "bb268eb4-9b8a-4237-8c69-f5632b90a2ed",
   "metadata": {},
   "outputs": [],
   "source": [
    "output_file = \"POP_result_Be.txt\"\n",
    "open(output_file, \"w\") do io\n",
    "    println(io, \"Final results from POP\\n\")\n",
    "    println(io, \"Energy $previous_opt\\n\")\n",
    "    println(io, \"MO coefficients:\")\n",
    "    println(io, \"First orbital: $(previous_sol[1]), $(previous_sol[2]), $(previous_sol[3])\")\n",
    "    println(io, \"Second orbital: $(previous_sol[4]), $(previous_sol[5]), $(previous_sol[6])\")\n",
    "end"
   ]
  },
  {
   "cell_type": "code",
   "execution_count": 15,
   "id": "79904d35-933d-4834-98c2-897e3a6e3b65",
   "metadata": {},
   "outputs": [
    {
     "data": {
      "text/plain": [
       "-14.569303993074977"
      ]
     },
     "execution_count": 15,
     "metadata": {},
     "output_type": "execute_result"
    }
   ],
   "source": [
    "poly(previous_sol)"
   ]
  },
  {
   "cell_type": "code",
   "execution_count": null,
   "id": "bf8461a7-6ce8-4473-87dd-f7f9bcc2db15",
   "metadata": {},
   "outputs": [],
   "source": []
  }
 ],
 "metadata": {
  "kernelspec": {
   "display_name": "Julia 1.10.5",
   "language": "julia",
   "name": "julia-1.10"
  },
  "language_info": {
   "file_extension": ".jl",
   "mimetype": "application/julia",
   "name": "julia",
   "version": "1.10.5"
  }
 },
 "nbformat": 4,
 "nbformat_minor": 5
}
